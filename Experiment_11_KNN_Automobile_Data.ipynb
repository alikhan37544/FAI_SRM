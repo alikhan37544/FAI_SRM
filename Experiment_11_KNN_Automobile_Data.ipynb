{
 "cells": [
  {
   "cell_type": "code",
   "execution_count": null,
   "metadata": {},
   "outputs": [],
   "source": [
    "'''\n",
    "LAB Program 4.4.2024\n",
    "Priyadharshini G\n",
    "•\n",
    "Apr 4\n",
    "100 points\n",
    "1. Download Automobile_data.csv from online. Export it google colab and do the following\n",
    "\n",
    "a) Find the most expensive car company name\n",
    "b)  Print All Toyota Cars details\n",
    "c) Count total cars per company\n",
    "d) Sort all cars by Price column\n",
    "e) Find each company’s Highest price car\n",
    "f) Implement K Nearest Neighbor regressor to perform price prediction and provide its outcome\n",
    "'''"
   ]
  }
 ],
 "metadata": {
  "language_info": {
   "name": "python"
  }
 },
 "nbformat": 4,
 "nbformat_minor": 2
}
