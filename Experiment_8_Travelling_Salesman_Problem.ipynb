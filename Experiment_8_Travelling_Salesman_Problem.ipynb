{
 "cells": [
  {
   "cell_type": "code",
   "execution_count": 2,
   "metadata": {},
   "outputs": [
    {
     "name": "stdout",
     "output_type": "stream",
     "text": [
      "Starting the TSP algorithm...\n",
      "Graph: [[0, 10, 15, 20], [10, 0, 35, 25], [15, 35, 0, 30], [20, 25, 30, 0]]\n",
      "Source vertex: 0\n",
      "Finding the minimum weight Hamiltonian Cycle...\n",
      "Minimum weight Hamiltonian Cycle: 80\n",
      "Starting the TSP algorithm with a larger graph...\n",
      "Graph: [[0, 0, 0, 0, 0, 0, 0, 0, 0, 0], [0, 0, 77, 12, 64, 81, 24, 56, 84, 35], [0, 77, 0, 13, 69, 88, 26, 60, 90, 38], [0, 12, 13, 0, 11, 14, 4, 10, 14, 6], [0, 64, 69, 11, 0, 73, 22, 50, 75, 32], [0, 81, 88, 14, 73, 0, 27, 64, 95, 40], [0, 24, 26, 4, 22, 27, 0, 19, 28, 12], [0, 56, 60, 10, 50, 64, 19, 0, 65, 28], [0, 84, 90, 14, 75, 95, 28, 65, 0, 41], [0, 35, 38, 6, 32, 40, 12, 28, 41, 0]]\n",
      "Source vertex: 0\n",
      "Finding the minimum weight Hamiltonian Cycle...\n",
      "Minimum weight Hamiltonian Cycle: 254\n",
      "Runtime of the program is 0.9742677211761475 seconds\n"
     ]
    }
   ],
   "source": [
    "# Python program to demonstrate the Travelling Salesman Problem in Python\n",
    "# The problem is also known as TSP\n",
    "import sys\n",
    "import math\n",
    "from itertools import permutations\n",
    "import time\n",
    "\n",
    "# Function to find the minimum weight Hamiltonian Cycle\n",
    "def travellingSalesmanProblem(graph, s):\n",
    "    print(\"Finding the minimum weight Hamiltonian Cycle...\")\n",
    "    # store all vertex apart from source vertex\n",
    "    vertex = []\n",
    "    for i in range(len(graph)):\n",
    "        if i != s:\n",
    "            vertex.append(i)\n",
    "\n",
    "    # store minimum weight Hamiltonian Cycle\n",
    "    min_path = sys.maxsize\n",
    "    next_permutation=permutations(vertex)\n",
    "    for i in next_permutation:\n",
    "        # store current Path weight(cost)\n",
    "        current_pathweight = 0\n",
    "\n",
    "        # compute current path weight\n",
    "        k = s\n",
    "        for j in i:\n",
    "            current_pathweight += graph[k][j]\n",
    "            k = j\n",
    "        current_pathweight += graph[k][s]\n",
    "\n",
    "        # update minimum\n",
    "        min_path = min(min_path, current_pathweight)\n",
    "\n",
    "    return min_path\n",
    "\n",
    "# Driver Code\n",
    "if __name__ == \"__main__\":\n",
    "    # matrix representation of graph\n",
    "    graph = [[0, 10, 15, 20], [10, 0, 35, 25],\n",
    "             [15, 35, 0, 30], [20, 25, 30, 0]]\n",
    "    s = 0\n",
    "    print(\"Starting the TSP algorithm...\")\n",
    "    print(\"Graph:\", graph)\n",
    "    print(\"Source vertex:\", s)\n",
    "    print(\"Minimum weight Hamiltonian Cycle:\", travellingSalesmanProblem(graph, s))\n",
    "\n",
    "    # Test with a larger graph\n",
    "    # Create a graph with 10 vertices\n",
    "    n = 10\n",
    "    graph = [[0 for j in range(n)] for i in range(n)]\n",
    "    for i in range(n):\n",
    "        for j in range(n):\n",
    "            if i != j:\n",
    "                graph[i][j] = math.ceil(100 * abs(math.sin(i) * math.sin(j)))\n",
    "\n",
    "    # Start the stopwatch / counter\n",
    "    start = time.time()\n",
    "\n",
    "    print(\"Starting the TSP algorithm with a larger graph...\")\n",
    "    print(\"Graph:\", graph)\n",
    "    print(\"Source vertex:\", s)\n",
    "    print(\"Minimum weight Hamiltonian Cycle:\", travellingSalesmanProblem(graph, s))\n",
    "\n",
    "    # Stop the stopwatch / counter\n",
    "    end = time.time()\n",
    "\n",
    "    # Time taken\n",
    "    print(f\"Runtime of the program is {end - start} seconds\")"
   ]
  },
  {
   "cell_type": "code",
   "execution_count": null,
   "metadata": {},
   "outputs": [],
   "source": []
  }
 ],
 "metadata": {
  "kernelspec": {
   "display_name": ".venv",
   "language": "python",
   "name": "python3"
  },
  "language_info": {
   "codemirror_mode": {
    "name": "ipython",
    "version": 3
   },
   "file_extension": ".py",
   "mimetype": "text/x-python",
   "name": "python",
   "nbconvert_exporter": "python",
   "pygments_lexer": "ipython3",
   "version": "3.11.6"
  }
 },
 "nbformat": 4,
 "nbformat_minor": 2
}
