{
 "cells": [
  {
   "cell_type": "code",
   "execution_count": 1,
   "metadata": {},
   "outputs": [
    {
     "data": {
      "text/plain": [
       "'\\nImplement Naïve Bayes theorem to classify the English text \\nPriyadharshini G\\n•\\nMar 26\\n100 points\\nIt should include\\n1.Bag of words\\n2.Tf-IDF\\n3.Glove\\nExecute Naive Bayes after applying each of these preprocessing and display the classification metrics.\\n\\nObservation:\\nAim\\nExplanation of all the preprocessing with its adv and disadv\\nProgram\\nOutput \\nResult\\n'"
      ]
     },
     "execution_count": 1,
     "metadata": {},
     "output_type": "execute_result"
    }
   ],
   "source": [
    "'''\n",
    "Implement Naïve Bayes theorem to classify the English text \n",
    "Priyadharshini G\n",
    "•\n",
    "Mar 26\n",
    "100 points\n",
    "It should include\n",
    "1.Bag of words\n",
    "2.Tf-IDF\n",
    "3.Glove\n",
    "Execute Naive Bayes after applying each of these preprocessing and display the classification metrics.\n",
    "\n",
    "Observation:\n",
    "Aim\n",
    "Explanation of all the preprocessing with its adv and disadv\n",
    "Program\n",
    "Output \n",
    "Result\n",
    "'''"
   ]
  },
  {
   "cell_type": "code",
   "execution_count": 1,
   "metadata": {},
   "outputs": [
    {
     "name": "stdout",
     "output_type": "stream",
     "text": [
      "Classification Report for Bag of Words:\n",
      "                        precision    recall  f1-score   support\n",
      "\n",
      "           alt.atheism       0.92      0.90      0.91       319\n",
      "         comp.graphics       0.95      0.95      0.95       389\n",
      "               sci.med       0.96      0.91      0.93       396\n",
      "soc.religion.christian       0.91      0.97      0.94       398\n",
      "\n",
      "              accuracy                           0.93      1502\n",
      "             macro avg       0.93      0.93      0.93      1502\n",
      "          weighted avg       0.93      0.93      0.93      1502\n",
      "\n",
      "Classification Report for TF-IDF:\n",
      "                        precision    recall  f1-score   support\n",
      "\n",
      "           alt.atheism       0.97      0.60      0.74       319\n",
      "         comp.graphics       0.96      0.89      0.92       389\n",
      "               sci.med       0.97      0.81      0.88       396\n",
      "soc.religion.christian       0.65      0.99      0.78       398\n",
      "\n",
      "              accuracy                           0.83      1502\n",
      "             macro avg       0.89      0.82      0.83      1502\n",
      "          weighted avg       0.88      0.83      0.84      1502\n",
      "\n"
     ]
    }
   ],
   "source": [
    "from sklearn.datasets import fetch_20newsgroups\n",
    "from sklearn.feature_extraction.text import CountVectorizer, TfidfVectorizer\n",
    "from sklearn.naive_bayes import MultinomialNB\n",
    "from sklearn.model_selection import train_test_split\n",
    "from sklearn.metrics import classification_report\n",
    "\n",
    "# Step 1: Load the dataset\n",
    "categories = ['alt.atheism', 'soc.religion.christian', 'comp.graphics', 'sci.med']\n",
    "newsgroups_train = fetch_20newsgroups(subset='train', categories=categories)\n",
    "newsgroups_test = fetch_20newsgroups(subset='test', categories=categories)\n",
    "\n",
    "# Step 2: Preprocess the text data\n",
    "vectorizers = [\n",
    "    ('Bag of Words', CountVectorizer()),\n",
    "    ('TF-IDF', TfidfVectorizer()),\n",
    "]\n",
    "\n",
    "for name, vectorizer in vectorizers:\n",
    "    X_train = vectorizer.fit_transform(newsgroups_train.data)\n",
    "    X_test = vectorizer.transform(newsgroups_test.data)\n",
    "    y_train = newsgroups_train.target\n",
    "    y_test = newsgroups_test.target\n",
    "\n",
    "    # Step 3: Train Naïve Bayes classifier\n",
    "    clf = MultinomialNB()\n",
    "    clf.fit(X_train, y_train)\n",
    "\n",
    "    # Step 4: Evaluate classifier\n",
    "    print(f\"Classification Report for {name}:\")\n",
    "    y_pred = clf.predict(X_test)\n",
    "    print(classification_report(y_test, y_pred, target_names=newsgroups_test.target_names))\n"
   ]
  },
  {
   "cell_type": "code",
   "execution_count": null,
   "metadata": {},
   "outputs": [],
   "source": []
  }
 ],
 "metadata": {
  "kernelspec": {
   "display_name": ".venv",
   "language": "python",
   "name": "python3"
  },
  "language_info": {
   "codemirror_mode": {
    "name": "ipython",
    "version": 3
   },
   "file_extension": ".py",
   "mimetype": "text/x-python",
   "name": "python",
   "nbconvert_exporter": "python",
   "pygments_lexer": "ipython3",
   "version": "3.11.6"
  }
 },
 "nbformat": 4,
 "nbformat_minor": 2
}
