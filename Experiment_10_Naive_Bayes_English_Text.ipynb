{
 "cells": [
  {
   "cell_type": "code",
   "execution_count": null,
   "metadata": {},
   "outputs": [],
   "source": [
    "'''\n",
    "Implement Naïve Bayes theorem to classify the English text \n",
    "Priyadharshini G\n",
    "•\n",
    "Mar 26\n",
    "100 points\n",
    "It should include\n",
    "1.Bag of words\n",
    "2.Tf-IDF\n",
    "3.Glove\n",
    "Execute Naive Bayes after applying each of these preprocessing and display the classification metrics.\n",
    "\n",
    "Observation:\n",
    "Aim\n",
    "Explanation of all the preprocessing with its adv and disadv\n",
    "Program\n",
    "Output \n",
    "Result\n",
    "'''"
   ]
  }
 ],
 "metadata": {
  "language_info": {
   "name": "python"
  }
 },
 "nbformat": 4,
 "nbformat_minor": 2
}
