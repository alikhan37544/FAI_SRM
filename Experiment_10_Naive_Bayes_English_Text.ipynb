{
 "cells": [
  {
   "cell_type": "code",
   "execution_count": 1,
   "metadata": {},
   "outputs": [
    {
     "data": {
      "text/plain": [
       "'\\nImplement Naïve Bayes theorem to classify the English text \\nPriyadharshini G\\n•\\nMar 26\\n100 points\\nIt should include\\n1.Bag of words\\n2.Tf-IDF\\n3.Glove\\nExecute Naive Bayes after applying each of these preprocessing and display the classification metrics.\\n\\nObservation:\\nAim\\nExplanation of all the preprocessing with its adv and disadv\\nProgram\\nOutput \\nResult\\n'"
      ]
     },
     "execution_count": 1,
     "metadata": {},
     "output_type": "execute_result"
    }
   ],
   "source": [
    "'''\n",
    "Implement Naïve Bayes theorem to classify the English text \n",
    "Priyadharshini G\n",
    "•\n",
    "Mar 26\n",
    "100 points\n",
    "It should include\n",
    "1.Bag of words\n",
    "2.Tf-IDF\n",
    "3.Glove\n",
    "Execute Naive Bayes after applying each of these preprocessing and display the classification metrics.\n",
    "\n",
    "Observation:\n",
    "Aim\n",
    "Explanation of all the preprocessing with its adv and disadv\n",
    "Program\n",
    "Output \n",
    "Result\n",
    "'''"
   ]
  },
  {
   "cell_type": "code",
   "execution_count": null,
   "metadata": {},
   "outputs": [],
   "source": []
  }
 ],
 "metadata": {
  "kernelspec": {
   "display_name": ".venv",
   "language": "python",
   "name": "python3"
  },
  "language_info": {
   "codemirror_mode": {
    "name": "ipython",
    "version": 3
   },
   "file_extension": ".py",
   "mimetype": "text/x-python",
   "name": "python",
   "nbconvert_exporter": "python",
   "pygments_lexer": "ipython3",
   "version": "3.11.6"
  }
 },
 "nbformat": 4,
 "nbformat_minor": 2
}
