{
 "cells": [
  {
   "cell_type": "code",
   "execution_count": null,
   "metadata": {},
   "outputs": [],
   "source": [
    "'''\n",
    "Lab program 18.03.2024\n",
    "Priyadharshini G\n",
    "•\n",
    "Mar 18 (Edited Mar 18)\n",
    "100 points\n",
    "1. Write a program to Implement Principle Component Analysis\n",
    "2. Develop a Python program to categorize the IRS dataset using a machine learning\n",
    "algorithm, with the number of neighbors set to 5.\n",
    "'''"
   ]
  }
 ],
 "metadata": {
  "language_info": {
   "name": "python"
  }
 },
 "nbformat": 4,
 "nbformat_minor": 2
}
