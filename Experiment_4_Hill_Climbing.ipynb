{
 "cells": [
  {
   "cell_type": "code",
   "execution_count": 1,
   "metadata": {},
   "outputs": [
    {
     "ename": "KeyboardInterrupt",
     "evalue": "",
     "output_type": "error",
     "traceback": [
      "\u001b[0;31m---------------------------------------------------------------------------\u001b[0m",
      "\u001b[0;31mKeyboardInterrupt\u001b[0m                         Traceback (most recent call last)",
      "Cell \u001b[0;32mIn[1], line 22\u001b[0m\n\u001b[1;32m     19\u001b[0m neighbors \u001b[38;5;241m=\u001b[39m [current_solution \u001b[38;5;241m+\u001b[39m step_size, current_solution \u001b[38;5;241m-\u001b[39m step_size]\n\u001b[1;32m     21\u001b[0m \u001b[38;5;66;03m# Find the best neighboring solution\u001b[39;00m\n\u001b[0;32m---> 22\u001b[0m best_neighbor \u001b[38;5;241m=\u001b[39m \u001b[38;5;28;43mmax\u001b[39;49m\u001b[43m(\u001b[49m\u001b[43mneighbors\u001b[49m\u001b[43m,\u001b[49m\u001b[43m \u001b[49m\u001b[43mkey\u001b[49m\u001b[38;5;241;43m=\u001b[39;49m\u001b[43mobjective_function\u001b[49m\u001b[43m)\u001b[49m\n\u001b[1;32m     24\u001b[0m \u001b[38;5;66;03m# Check if the best neighboring solution is better than the current solution\u001b[39;00m\n\u001b[1;32m     25\u001b[0m \u001b[38;5;28;01mif\u001b[39;00m objective_function(best_neighbor) \u001b[38;5;241m>\u001b[39m current_score:\n",
      "\u001b[0;31mKeyboardInterrupt\u001b[0m: "
     ]
    }
   ],
   "source": [
    "# This program is to demonstrate Hill climbing Algorithm in Python\n",
    "\n",
    "# Define the objective function to be optimized\n",
    "def objective_function(x):\n",
    "    return x**2  # Example objective function: x^2\n",
    "\n",
    "# Define the initial solution\n",
    "current_solution = 0  # Example initial solution\n",
    "\n",
    "# Define the step size for making incremental changes\n",
    "step_size = 0.1  # Example step size\n",
    "\n",
    "# Iterate until no further improvement is possible\n",
    "while True:\n",
    "    # Evaluate the current solution\n",
    "    current_score = objective_function(current_solution)\n",
    "\n",
    "    # Generate neighboring solutions by making incremental changes\n",
    "    neighbors = [current_solution + step_size, current_solution - step_size]\n",
    "\n",
    "    # Find the best neighboring solution\n",
    "    best_neighbor = max(neighbors, key=objective_function)\n",
    "\n",
    "    # Check if the best neighboring solution is better than the current solution\n",
    "    if objective_function(best_neighbor) > current_score:\n",
    "        current_solution = best_neighbor  # Move to the best neighboring solution\n",
    "    else:\n",
    "        break  # No further improvement is possible, terminate the algorithm\n",
    "\n",
    "# Print the final solution and its score\n",
    "print(\"Final Solution:\", current_solution)\n",
    "print(\"Final Score:\", objective_function(current_solution))\n"
   ]
  },
  {
   "cell_type": "code",
   "execution_count": null,
   "metadata": {},
   "outputs": [],
   "source": [
    "# This program is to demonstrate Hill climbing Algorithm in Python\n",
    "\n",
    "# Define the objective function to be optimized\n",
    "def objective_function(x):\n",
    "    return x**2  # Example objective function: x^2\n",
    "\n",
    "# Define the initial solution\n",
    "current_solution = 0  # Example initial solution\n",
    "print(f\"Initial Solution: {current_solution}\")\n",
    "\n",
    "# Define the step size for making incremental changes\n",
    "step_size = 0.1  # Example step size\n",
    "print(f\"Step Size: {step_size}\")\n",
    "\n",
    "# Iterate until no further improvement is possible\n",
    "while True:\n",
    "    # Evaluate the current solution\n",
    "    current_score = objective_function(current_solution)\n",
    "    print(f\"Current Solution: {current_solution}, Score: {current_score}\")\n",
    "\n",
    "    # Generate neighboring solutions by making incremental changes\n",
    "    neighbors = [current_solution + step_size, current_solution - step_size]\n",
    "    print(f\"Neighbors: {neighbors}\")\n",
    "\n",
    "    # Find the best neighboring solution\n",
    "    best_neighbor = max(neighbors, key=objective_function)\n",
    "    print(f\"Best Neighbor: {best_neighbor}\")\n",
    "\n",
    "    # Check if the best neighboring solution is better than the current solution\n",
    "    if objective_function(best_neighbor) > current_score:\n",
    "        current_solution = best_neighbor  # Move to the best neighboring solution\n",
    "        print(f\"Moving to new solution: {current_solution}\")\n",
    "    else:\n",
    "        print(\"No further improvement is possible, terminating the algorithm\")\n",
    "        break  # No further improvement is possible, terminate the algorithm\n",
    "\n",
    "# Print the final solution and its score\n",
    "print(\"Final Solution:\", current_solution)\n",
    "print(\"Final Score:\", objective_function(current_solution))"
   ]
  }
 ],
 "metadata": {
  "kernelspec": {
   "display_name": ".venv",
   "language": "python",
   "name": "python3"
  },
  "language_info": {
   "codemirror_mode": {
    "name": "ipython",
    "version": 3
   },
   "file_extension": ".py",
   "mimetype": "text/x-python",
   "name": "python",
   "nbconvert_exporter": "python",
   "pygments_lexer": "ipython3",
   "version": "3.11.6"
  }
 },
 "nbformat": 4,
 "nbformat_minor": 2
}
