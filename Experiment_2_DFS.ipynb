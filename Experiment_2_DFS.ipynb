{
 "cells": [
  {
   "cell_type": "code",
   "execution_count": 1,
   "metadata": {},
   "outputs": [
    {
     "name": "stdout",
     "output_type": "stream",
     "text": [
      "A\n",
      "C\n",
      "F\n",
      "E\n",
      "B\n",
      "D\n",
      "B\n"
     ]
    }
   ],
   "source": [
    "# This program is to perform DFS in Python\n",
    "\n",
    "# This function is to perform DFS\n",
    "def dfs(graph, start, visited=None):\n",
    "    if visited is None:\n",
    "        visited = set()\n",
    "    visited.add(start)\n",
    "    print(start)\n",
    "    for next in graph[start] - visited:\n",
    "        dfs(graph, next, visited)\n",
    "    return visited\n",
    "\n",
    "# This is the main function\n",
    "if __name__ == '__main__':\n",
    "    graph = {'A': set(['B', 'C']),\n",
    "             'B': set(['A', 'D', 'E']),\n",
    "             'C': set(['A', 'F']),\n",
    "             'D': set(['B']),\n",
    "             'E': set(['B', 'F']),\n",
    "             'F': set(['C', 'E'])}\n",
    "\n",
    "    dfs(graph, 'A')\n",
    "\n",
    "    "
   ]
  },
  {
   "cell_type": "code",
   "execution_count": null,
   "metadata": {},
   "outputs": [],
   "source": []
  }
 ],
 "metadata": {
  "kernelspec": {
   "display_name": ".venv",
   "language": "python",
   "name": "python3"
  },
  "language_info": {
   "codemirror_mode": {
    "name": "ipython",
    "version": 3
   },
   "file_extension": ".py",
   "mimetype": "text/x-python",
   "name": "python",
   "nbconvert_exporter": "python",
   "pygments_lexer": "ipython3",
   "version": "3.11.6"
  }
 },
 "nbformat": 4,
 "nbformat_minor": 2
}
